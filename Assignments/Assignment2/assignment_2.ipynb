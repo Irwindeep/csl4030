{
 "cells": [
  {
   "cell_type": "code",
   "execution_count": 1,
   "metadata": {},
   "outputs": [],
   "source": [
    "import MySQLdb\n",
    "from MySQLdb import Error\n",
    "import os\n",
    "import time"
   ]
  },
  {
   "cell_type": "code",
   "execution_count": 2,
   "metadata": {},
   "outputs": [
    {
     "name": "stdout",
     "output_type": "stream",
     "text": [
      "Connected to Database Successfully!\n"
     ]
    }
   ],
   "source": [
    "try:\n",
    "    connection = MySQLdb.connect(\n",
    "        host=\"localhost\",\n",
    "        user=\"root\",\n",
    "        password=os.getenv('MySQL'),\n",
    "        database=\"hotel_management\"\n",
    "    )\n",
    "    print(\"Connected to Database Successfully!\")\n",
    "except Error as e:\n",
    "    print(f\"Error Occurred: {e}\")"
   ]
  },
  {
   "cell_type": "code",
   "execution_count": 3,
   "metadata": {},
   "outputs": [
    {
     "name": "stdout",
     "output_type": "stream",
     "text": [
      "Execution TIme: 0.002277374267578125\n"
     ]
    }
   ],
   "source": [
    "cursor = connection.cursor()\n",
    "\n",
    "start = time.time()\n",
    "\n",
    "cursor.execute('''\n",
    "    SELECT r.room_no, r.type\n",
    "    FROM rooms r\n",
    "    JOIN bookings b ON r.room_no = b.room_no\n",
    "    WHERE YEAR(b.check_in) = 2023\n",
    "    GROUP BY r.room_no, r.type\n",
    "    HAVING COUNT(DISTINCT MONTH(b.check_in)) = 12\n",
    "''')\n",
    "\n",
    "output = cursor.fetchall()\n",
    "\n",
    "print(f\"Execution TIme: {time.time() - start}\")"
   ]
  },
  {
   "cell_type": "code",
   "execution_count": 4,
   "metadata": {},
   "outputs": [
    {
     "name": "stdout",
     "output_type": "stream",
     "text": [
      "Execution TIme: 0.0016717910766601562\n"
     ]
    }
   ],
   "source": [
    "start = time.time()\n",
    "\n",
    "cursor.execute('''\n",
    "    SELECT DISTINCT \n",
    "        MONTHNAME(b.check_in) AS month_name\n",
    "    FROM rooms r\n",
    "    JOIN bookings b ON r.room_no = b.room_no\n",
    "    WHERE r.type = 'deluxe' AND YEAR(b.check_in) = 2023\n",
    "    ORDER BY MONTH(b.check_in)\n",
    "''')\n",
    "\n",
    "output = cursor.fetchall()\n",
    "\n",
    "print(f\"Execution TIme: {time.time() - start}\")"
   ]
  },
  {
   "cell_type": "code",
   "execution_count": 5,
   "metadata": {},
   "outputs": [
    {
     "name": "stdout",
     "output_type": "stream",
     "text": [
      "Execution TIme: 0.0014400482177734375\n"
     ]
    }
   ],
   "source": [
    "start = time.time()\n",
    "\n",
    "cursor.execute('''\n",
    "    SELECT g.guest_id\n",
    "    FROM guests g\n",
    "    JOIN bookings b ON g.guest_id = b.guest_id\n",
    "    JOIN rooms r ON b.room_no = r.room_no\n",
    "    WHERE r.type = 'single_room' AND YEAR(b.check_in) = 2022\n",
    "''')\n",
    "\n",
    "output = cursor.fetchall()\n",
    "\n",
    "print(f\"Execution TIme: {time.time() - start}\")"
   ]
  },
  {
   "cell_type": "code",
   "execution_count": 7,
   "metadata": {},
   "outputs": [
    {
     "name": "stdout",
     "output_type": "stream",
     "text": [
      "Execution TIme: 0.0014922618865966797\n"
     ]
    }
   ],
   "source": [
    "start = time.time()\n",
    "\n",
    "cursor.execute('''\n",
    "    SELECT g.lname, g.email, g.phone_no\n",
    "    FROM guests g\n",
    "    JOIN bookings b ON g.guest_id = b.guest_id\n",
    "    JOIN rooms r ON b.room_no = r.room_no\n",
    "    WHERE r.type = 'single_room' AND YEAR(b.check_in) = 2022\n",
    "''')\n",
    "\n",
    "output = cursor.fetchall()\n",
    "\n",
    "print(f\"Execution TIme: {time.time() - start}\")"
   ]
  },
  {
   "cell_type": "code",
   "execution_count": 8,
   "metadata": {},
   "outputs": [
    {
     "name": "stdout",
     "output_type": "stream",
     "text": [
      "Execution TIme: 0.0024569034576416016\n"
     ]
    }
   ],
   "source": [
    "start = time.time()\n",
    "\n",
    "cursor.execute('''\n",
    "    SELECT g.guest_id, g.lname, g.email, g.phone_no\n",
    "    FROM guests g\n",
    "    LEFT JOIN bookings b ON g.guest_id = b.guest_id\n",
    "    WHERE b.guest_id IS NULL\n",
    "''')\n",
    "\n",
    "output = cursor.fetchall()\n",
    "\n",
    "print(f\"Execution TIme: {time.time() - start}\")"
   ]
  },
  {
   "cell_type": "code",
   "execution_count": 9,
   "metadata": {},
   "outputs": [
    {
     "name": "stdout",
     "output_type": "stream",
     "text": [
      "Execution TIme: 0.0015377998352050781\n"
     ]
    }
   ],
   "source": [
    "start = time.time()\n",
    "\n",
    "cursor.execute('''\n",
    "    SELECT r.room_no, r.type\n",
    "    FROM rooms r\n",
    "    JOIN bookings b ON r.room_no = b.room_no\n",
    "    WHERE YEAR(b.check_in) = 2023\n",
    "    GROUP BY r.room_no, r.type\n",
    "    HAVING COUNT(DISTINCT MONTH(b.check_in)) = 12\n",
    "''')\n",
    "\n",
    "output = cursor.fetchall()\n",
    "\n",
    "print(f\"Execution TIme: {time.time() - start}\")"
   ]
  },
  {
   "cell_type": "code",
   "execution_count": 10,
   "metadata": {},
   "outputs": [
    {
     "name": "stdout",
     "output_type": "stream",
     "text": [
      "Execution TIme: 0.0020248889923095703\n"
     ]
    }
   ],
   "source": [
    "start = time.time()\n",
    "\n",
    "cursor.execute('''\n",
    "    SELECT DISTINCT MONTH(b.check_in) AS month\n",
    "    FROM bookings b\n",
    "    JOIN rooms r ON b.room_no = r.room_no\n",
    "    WHERE r.type = 'deluxe'\n",
    "''')\n",
    "\n",
    "output = cursor.fetchall()\n",
    "\n",
    "print(f\"Execution TIme: {time.time() - start}\")"
   ]
  },
  {
   "cell_type": "code",
   "execution_count": 11,
   "metadata": {},
   "outputs": [
    {
     "name": "stdout",
     "output_type": "stream",
     "text": [
      "Execution TIme: 0.0010666847229003906\n"
     ]
    }
   ],
   "source": [
    "start = time.time()\n",
    "\n",
    "cursor.execute('''\n",
    "    SELECT g.guest_id\n",
    "    FROM guests g\n",
    "    JOIN bookings b ON g.guest_id = b.guest_id\n",
    "    JOIN rooms r ON b.room_no = r.room_no\n",
    "    WHERE r.type = 'single_room' AND YEAR(b.check_in) = 2022\n",
    "''')\n",
    "\n",
    "output = cursor.fetchall()\n",
    "\n",
    "print(f\"Execution TIme: {time.time() - start}\")"
   ]
  },
  {
   "cell_type": "code",
   "execution_count": 12,
   "metadata": {},
   "outputs": [
    {
     "name": "stdout",
     "output_type": "stream",
     "text": [
      "Execution TIme: 0.0017931461334228516\n"
     ]
    }
   ],
   "source": [
    "start = time.time()\n",
    "\n",
    "cursor.execute('''\n",
    "    SELECT g.lname, g.email, g.phone_no\n",
    "    FROM guests g\n",
    "    JOIN bookings b ON g.guest_id = b.guest_id\n",
    "    JOIN rooms r ON b.room_no = r.room_no\n",
    "    WHERE r.type = 'single_room' AND YEAR(b.check_in) = 2022\n",
    "''')\n",
    "\n",
    "output = cursor.fetchall()\n",
    "\n",
    "print(f\"Execution TIme: {time.time() - start}\")"
   ]
  },
  {
   "cell_type": "code",
   "execution_count": 14,
   "metadata": {},
   "outputs": [
    {
     "name": "stdout",
     "output_type": "stream",
     "text": [
      "Execution TIme: 0.001325368881225586\n"
     ]
    }
   ],
   "source": [
    "start = time.time()\n",
    "\n",
    "cursor.execute('''\n",
    "    SELECT g.guest_id, g.lname, g.email, g.phone_no\n",
    "    FROM guests g\n",
    "    LEFT JOIN bookings b ON g.guest_id = b.guest_id\n",
    "    WHERE b.guest_id IS NULL\n",
    "''')\n",
    "\n",
    "output = cursor.fetchall()\n",
    "\n",
    "print(f\"Execution TIme: {time.time() - start}\")"
   ]
  }
 ],
 "metadata": {
  "kernelspec": {
   "display_name": "Python 3",
   "language": "python",
   "name": "python3"
  },
  "language_info": {
   "codemirror_mode": {
    "name": "ipython",
    "version": 3
   },
   "file_extension": ".py",
   "mimetype": "text/x-python",
   "name": "python",
   "nbconvert_exporter": "python",
   "pygments_lexer": "ipython3",
   "version": "3.11.9"
  }
 },
 "nbformat": 4,
 "nbformat_minor": 2
}
