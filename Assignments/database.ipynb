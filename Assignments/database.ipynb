{
 "cells": [
  {
   "cell_type": "code",
   "execution_count": 2,
   "metadata": {},
   "outputs": [],
   "source": [
    "import MySQLdb\n",
    "from MySQLdb import Error\n",
    "import os\n",
    "import numpy as np"
   ]
  },
  {
   "cell_type": "code",
   "execution_count": 4,
   "metadata": {},
   "outputs": [
    {
     "name": "stdout",
     "output_type": "stream",
     "text": [
      "Connected to Database Successfully!\n"
     ]
    }
   ],
   "source": [
    "try:\n",
    "    connection = MySQLdb.connect(\n",
    "        host=\"localhost\",\n",
    "        user=\"root\",\n",
    "        password=os.getenv('MySQL'),\n",
    "        database=\"hotel_management\"\n",
    "    )\n",
    "    print(\"Connected to Database Successfully!\")\n",
    "except Error as e:\n",
    "    print(f\"Error Occurred: {e}\")"
   ]
  },
  {
   "cell_type": "code",
   "execution_count": 3,
   "metadata": {},
   "outputs": [],
   "source": [
    "cursor = connection.cursor()\n",
    "\n",
    "for room_no in range(101, 201):\n",
    "    if room_no <= 125: type, price = \"Standard\", 2500.0\n",
    "    elif room_no <= 150: type, price = \"Deluxe\", 3200.0\n",
    "    elif room_no <= 175: type, price = \"Executive\", 4000.0\n",
    "    else: type, price = \"Premium\", 6500.0\n",
    "\n",
    "    cursor.execute(f\"INSERT INTO rooms VALUES({room_no}, '{type}', 'Empty', {price})\")\n",
    "\n",
    "connection.commit()"
   ]
  },
  {
   "cell_type": "code",
   "execution_count": 6,
   "metadata": {},
   "outputs": [],
   "source": [
    "cursor = connection.cursor()\n",
    "\n",
    "phone_nos = [\"555-1234\", \"555-5678\", \"555-9101\", \"555-1121\", \"555-1314\"]\n",
    "emails = [\n",
    "    \"alice.smith@example.com\",\n",
    "    \"bob.johnson@example.com\",\n",
    "    \"charlie.williams@example.com\",\n",
    "    \"diana.jones@example.com\",\n",
    "    \"eve.brown@example.com\"\n",
    "]\n",
    "\n",
    "book_times = [\n",
    "    \"2024-08-01 14:30:00\",\n",
    "    \"2024-08-05 10:15:00\",\n",
    "    \"2024-08-10 16:45:00\",\n",
    "    \"2024-08-15 09:00:00\",\n",
    "    \"2024-08-20 13:20:00\"\n",
    "]\n",
    "\n",
    "fnames = [\"Alice\", \"Bob\", \"Charlie\", \"Diana\", \"Eve\"]\n",
    "lnames = [\"Smith\", \"Johnson\", \"Williams\", \"Jones\", \"Brown\"]\n",
    "in_dates = [\"2024-08-01\", \"2024-08-05\", \"2024-08-10\", \"2024-08-15\", \"2024-08-20\"]\n",
    "out_dates = [\"2024-08-03\", \"2024-08-07\", \"2024-08-12\", \"2024-08-18\", \"2024-08-22\"]\n",
    "occupants = [2, 3, 1, 4, 2]\n",
    "travel_modes = [\"Car\", \"Bus\", \"Flight\", \"Train\", \"Car\"]\n",
    "\n",
    "for id in range(1, 6):\n",
    "    room_no = np.random.randint(low=101, high=200)\n",
    "    query = f\"{id}, {room_no}, '{id}', '{book_times[id-1]}', {occupants[id-1]}, '{travel_modes[id-1]}', \"\n",
    "    query += f\"'{in_dates[id-1]}', '{out_dates[id-1]}', {id}\"\n",
    "    cursor.execute(f\"INSERT INTO bookings VALUES({query})\")\n",
    "    cursor.execute(f\"UPDATE rooms SET status='Booked' WHERE room_no={room_no}\")\n",
    "\n",
    "    query = f\"{id}, '{fnames[id-1]}', '{lnames[id-1]}', '{phone_nos[id-1]}', '{emails[id-1]}'\"\n",
    "    cursor.execute(f\"INSERT INTO guests VALUES({query})\")\n",
    "\n",
    "    cursor.execute(f\"SELECT price FROM rooms WHERE room_no={room_no}\")\n",
    "    amount = cursor.fetchone()[0]\n",
    "    amount *= cursor.fetchone()[0]\n",
    "    cursor.execute(f\"INSERT INTO payments VALUES({id}, 'Cash', {amount}, {book_times[id-1]})\")\n",
    "\n",
    "connection.commit()"
   ]
  },
  {
   "cell_type": "code",
   "execution_count": 8,
   "metadata": {},
   "outputs": [
    {
     "name": "stdout",
     "output_type": "stream",
     "text": [
      "Hash value for key '22022022': 65\n",
      "Hash value for key '22023034': 10\n"
     ]
    }
   ],
   "source": [
    "def hash_function(key: int, table_size: int) -> int:\n",
    "    key_str, PRIME_1, PRIME_2 = str(key), 31, 7\n",
    "    \n",
    "    hash_value = 0 # Initialize hash value\n",
    "    for char in key_str:\n",
    "        hash_value = (hash_value * PRIME_1 + int(char)) % table_size\n",
    "\n",
    "    common_chars = 'B22AI0'\n",
    "    for char in common_chars:\n",
    "        hash_value = (hash_value * PRIME_2 + ord(char)) % table_size\n",
    "    \n",
    "    return hash_value % table_size\n",
    "\n",
    "# Example usage:\n",
    "key1, key2 = 22022022, 22023034\n",
    "table_size = 97\n",
    "\n",
    "print(f\"Hash value for key '{key1}': {hash_function(key1, table_size)}\")\n",
    "print(f\"Hash value for key '{key2}': {hash_function(key2, table_size)}\")"
   ]
  },
  {
   "cell_type": "code",
   "execution_count": 5,
   "metadata": {},
   "outputs": [
    {
     "name": "stdout",
     "output_type": "stream",
     "text": [
      "('rooms', 0, 'PRIMARY', 1, 'room_no', 'A', 100, None, None, '', 'BTREE', '', '', 'NO')\n",
      "('rooms', 1, 'idx_room_type', 1, 'type', 'A', 4, None, None, 'YES', 'BTREE', '', '', 'NO')\n"
     ]
    }
   ],
   "source": [
    "cursor = connection.cursor()\n",
    "\n",
    "cursor.execute(\"SHOW INDEX FROM rooms\")\n",
    "indices = cursor.fetchall()\n",
    "for index in indices:\n",
    "    print(index)"
   ]
  }
 ],
 "metadata": {
  "kernelspec": {
   "display_name": ".env",
   "language": "python",
   "name": "python3"
  },
  "language_info": {
   "codemirror_mode": {
    "name": "ipython",
    "version": 3
   },
   "file_extension": ".py",
   "mimetype": "text/x-python",
   "name": "python",
   "nbconvert_exporter": "python",
   "pygments_lexer": "ipython3",
   "version": "3.12.5"
  }
 },
 "nbformat": 4,
 "nbformat_minor": 2
}
