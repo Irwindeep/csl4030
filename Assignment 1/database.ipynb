{
 "cells": [
  {
   "cell_type": "code",
   "execution_count": 1,
   "metadata": {},
   "outputs": [],
   "source": [
    "import MySQLdb\n",
    "from MySQLdb import Error\n",
    "import os"
   ]
  },
  {
   "cell_type": "code",
   "execution_count": 2,
   "metadata": {},
   "outputs": [
    {
     "name": "stdout",
     "output_type": "stream",
     "text": [
      "Connected to Database Successfully!\n"
     ]
    }
   ],
   "source": [
    "try:\n",
    "    connection = MySQLdb.connect(\n",
    "        host=\"localhost\",\n",
    "        user=\"root\",\n",
    "        password=os.getenv('MySQL'),\n",
    "        database=\"hotel_management\"\n",
    "    )\n",
    "    print(\"Connected to Database Successfully!\")\n",
    "except Error as e:\n",
    "    print(f\"Error Occurred: {e}\")"
   ]
  },
  {
   "cell_type": "code",
   "execution_count": 3,
   "metadata": {},
   "outputs": [],
   "source": [
    "cursor = connection.cursor()\n",
    "\n",
    "for room_no in range(101, 201):\n",
    "    if room_no <= 125: type, price = \"Standard\", 2500.0\n",
    "    elif room_no <= 150: type, price = \"Deluxe\", 3200.0\n",
    "    elif room_no <= 175: type, price = \"Executive\", 4000.0\n",
    "    else: type, price = \"Premium\", 6500.0\n",
    "\n",
    "    cursor.execute(f\"INSERT INTO rooms VALUES({room_no}, '{type}', 'Empty', {price})\")\n",
    "\n",
    "connection.commit()"
   ]
  },
  {
   "cell_type": "code",
   "execution_count": 6,
   "metadata": {},
   "outputs": [],
   "source": [
    "import numpy as np\n",
    "\n",
    "cursor = connection.cursor()\n",
    "\n",
    "phone_numbers = [\n",
    "    \"+1-202-555-0172\",\n",
    "    \"+1-303-555-0198\",\n",
    "    \"+1-404-555-0147\",\n",
    "    \"+1-505-555-0119\",\n",
    "    \"+1-606-555-0134\"\n",
    "]\n",
    "emails = [\n",
    "    \"alice.smith@example.com\",\n",
    "    \"bob.johnson@example.com\",\n",
    "    \"charlie.williams@example.com\",\n",
    "    \"diana.jones@example.com\",\n",
    "    \"eve.brown@example.com\"\n",
    "]\n",
    "fnames = [\"Alice\", \"Bob\", \"Charlie\", \"Diana\", \"Eve\"]\n",
    "lnames = [\"Smith\", \"Johnson\", \"Williams\", \"Jones\", \"Brown\"]\n",
    "in_dates = [\"2024-08-03\", \"2024-08-12\", \"2024-08-19\", \"2024-08-23\", \"2024-08-30\"]\n",
    "occupants = [2, 4, 1, 3, 4]\n",
    "travel_modes = [\"Air\", \"Railway\", \"Air\", \"Personal Vehicle\", \"Railway\"]\n",
    "\n",
    "for id in range(1, 6):\n",
    "    room_no = np.random.randint(low=101, high=200)\n",
    "    cursor.execute(f\"INSERT INTO bookings VALUES({id}, {room_no}, '{phone_numbers[id-1]}', '{emails[id-1]}', '{fnames[id-1]}', '{lnames[id-1]}', '{in_dates[id-1]}', {occupants[id-1]}, '{travel_modes[id-1]}', 'Cash', 1)\")\n",
    "    cursor.execute(f\"UPDATE rooms SET status='Booked' WHERE room_no={room_no}\")\n",
    "\n",
    "connection.commit()"
   ]
  }
 ],
 "metadata": {
  "kernelspec": {
   "display_name": ".env",
   "language": "python",
   "name": "python3"
  },
  "language_info": {
   "codemirror_mode": {
    "name": "ipython",
    "version": 3
   },
   "file_extension": ".py",
   "mimetype": "text/x-python",
   "name": "python",
   "nbconvert_exporter": "python",
   "pygments_lexer": "ipython3",
   "version": "3.12.5"
  }
 },
 "nbformat": 4,
 "nbformat_minor": 2
}
