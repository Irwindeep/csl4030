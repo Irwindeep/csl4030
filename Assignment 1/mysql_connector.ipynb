{
 "cells": [
  {
   "cell_type": "code",
   "execution_count": 1,
   "metadata": {},
   "outputs": [],
   "source": [
    "import mysql.connector\n",
    "import os"
   ]
  },
  {
   "cell_type": "code",
   "execution_count": 6,
   "metadata": {},
   "outputs": [],
   "source": [
    "import numpy as np"
   ]
  },
  {
   "cell_type": "code",
   "execution_count": 2,
   "metadata": {},
   "outputs": [],
   "source": [
    "password = os.getenv(\"MYSQL\")\n",
    "\n",
    "mydb = mysql.connector.connect(\n",
    "  host=\"localhost\",\n",
    "  user=\"root\",\n",
    "  password=password,\n",
    "  database=\"hotel_management\"\n",
    ")"
   ]
  },
  {
   "cell_type": "code",
   "execution_count": 3,
   "metadata": {},
   "outputs": [],
   "source": [
    "mycursor = mydb.cursor()\n",
    "\n",
    "mycursor.execute(\"CREATE TABLE rooms (room_no INT PRIMARY KEY, type VARCHAR(20), status VARCHAR(20), price FLOAT)\")"
   ]
  },
  {
   "cell_type": "code",
   "execution_count": 4,
   "metadata": {},
   "outputs": [],
   "source": [
    "for room_no in range(100, 201):\n",
    "    room_type, price = (\"deluxe\", 3000.0) if room_no <= 150 else (\"premium\", 4500.0)\n",
    "    mycursor.execute(\n",
    "        \"INSERT INTO rooms VALUES (%s, %s, %s, %s)\",\n",
    "        (room_no, room_type, 'Empty', price)\n",
    "    )"
   ]
  },
  {
   "cell_type": "code",
   "execution_count": 5,
   "metadata": {},
   "outputs": [],
   "source": [
    "mydb.commit()"
   ]
  },
  {
   "cell_type": "code",
   "execution_count": 11,
   "metadata": {},
   "outputs": [],
   "source": [
    "import numpy as np\n",
    "\n",
    "# Example data for fname and lname\n",
    "fname = ['John', 'Jane', 'Alice', 'Bob', 'Carol']\n",
    "lname = ['Doe', 'Smith', 'Johnson', 'Lee', 'Brown']\n",
    "\n",
    "for id in range(1, 6):\n",
    "    room_no = np.random.randint(low=100, high=200)\n",
    "    mycursor.execute(\"UPDATE rooms SET status='Booked' WHERE room_no=%s\", (room_no,))\n",
    "    \n",
    "    # Use parameterized queries for the INSERT statement\n",
    "    mycursor.execute(\n",
    "        \"INSERT INTO bookings VALUES (%s, %s, %s, %s, %s, %s, %s, %s)\",\n",
    "        (id, room_no, fname[id-1], lname[id-1], 'Air', 1, 'Paid', 'Cash')\n",
    "    )\n",
    "\n",
    "mydb.commit()\n"
   ]
  }
 ],
 "metadata": {
  "kernelspec": {
   "display_name": "Python 3",
   "language": "python",
   "name": "python3"
  },
  "language_info": {
   "codemirror_mode": {
    "name": "ipython",
    "version": 3
   },
   "file_extension": ".py",
   "mimetype": "text/x-python",
   "name": "python",
   "nbconvert_exporter": "python",
   "pygments_lexer": "ipython3",
   "version": "3.12.4"
  }
 },
 "nbformat": 4,
 "nbformat_minor": 2
}
